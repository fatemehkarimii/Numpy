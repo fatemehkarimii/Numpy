{
  "nbformat": 4,
  "nbformat_minor": 0,
  "metadata": {
    "colab": {
      "name": "5_Copy vs View.ipynb",
      "provenance": [],
      "authorship_tag": "ABX9TyOE6uslOGh5obhQhuE22Bg/",
      "include_colab_link": true
    },
    "kernelspec": {
      "name": "python3",
      "display_name": "Python 3"
    },
    "language_info": {
      "name": "python"
    }
  },
  "cells": [
    {
      "cell_type": "markdown",
      "metadata": {
        "id": "view-in-github",
        "colab_type": "text"
      },
      "source": [
        "<a href=\"https://colab.research.google.com/github/fatemehkarimii/Numpy-Tutorial/blob/main/5_Copy_vs_View.ipynb\" target=\"_parent\"><img src=\"https://colab.research.google.com/assets/colab-badge.svg\" alt=\"Open In Colab\"/></a>"
      ]
    },
    {
      "cell_type": "markdown",
      "source": [
        "#The Difference Between Copy and View\n",
        "The main difference between a copy and a view of an array is that the copy is a new array, and the view is just a view of the original array.\n",
        "\n",
        "The copy owns the data and any changes made to the copy will not affect original array, and any changes made to the original array will not affect the copy.\n",
        "\n",
        "The view does not own the data and any changes made to the view will affect the original array, and any changes made to the original array will affect the view.\n",
        "\n",
        "#COPY:\n",
        "\n"
      ],
      "metadata": {
        "id": "ZpStRjUFF-KY"
      }
    },
    {
      "cell_type": "code",
      "execution_count": 1,
      "metadata": {
        "colab": {
          "base_uri": "https://localhost:8080/"
        },
        "id": "tCYwQ-Q5Fz0Y",
        "outputId": "bf6a941d-8b06-4d0c-84b8-76e9a65e8fe0"
      },
      "outputs": [
        {
          "output_type": "stream",
          "name": "stdout",
          "text": [
            "[42  2  3  4  5]\n",
            "[1 2 3 4 5]\n"
          ]
        }
      ],
      "source": [
        "#Make a copy, change the original array, and display both arrays:\n",
        "\n",
        "import numpy as np\n",
        "\n",
        "arr = np.array([1, 2, 3, 4, 5])\n",
        "x = arr.copy()\n",
        "arr[0] = 42\n",
        "\n",
        "print(arr)\n",
        "print(x)"
      ]
    },
    {
      "cell_type": "markdown",
      "source": [
        "#VIEW:\n",
        "\n",
        "Make a view, change the original array, and display both arrays:\n",
        "\n"
      ],
      "metadata": {
        "id": "c6j0aT3pGOP7"
      }
    },
    {
      "cell_type": "code",
      "source": [
        "import numpy as np\n",
        "\n",
        "arr = np.array([1, 2, 3, 4, 5])\n",
        "x = arr.view()\n",
        "arr[0] = 42\n",
        "\n",
        "print(arr)\n",
        "print(x)\n",
        "\n",
        "#Make a view, change the view, and display both arrays:\n",
        "\n",
        "arr = np.array([1, 2, 3, 4, 5])\n",
        "x = arr.view()\n",
        "x[0] = 31\n",
        "\n",
        "print(arr)\n",
        "print(x)"
      ],
      "metadata": {
        "colab": {
          "base_uri": "https://localhost:8080/"
        },
        "id": "xxOiP8YWGRnZ",
        "outputId": "dade0792-76c9-4f97-e140-87b90710c54f"
      },
      "execution_count": 3,
      "outputs": [
        {
          "output_type": "stream",
          "name": "stdout",
          "text": [
            "[42  2  3  4  5]\n",
            "[42  2  3  4  5]\n",
            "[31  2  3  4  5]\n",
            "[31  2  3  4  5]\n"
          ]
        }
      ]
    },
    {
      "cell_type": "markdown",
      "source": [
        "#Check if Array Owns its Data\n",
        "As mentioned above, copies owns the data, and views does not own the data, but how can we check this?\n",
        "\n",
        "Every NumPy array has the attribute base that returns None if the array owns the data.\n",
        "\n",
        "Otherwise, the base  attribute refers to the original object.\n",
        "\n"
      ],
      "metadata": {
        "id": "m9lEB0pVGng_"
      }
    },
    {
      "cell_type": "code",
      "source": [
        "#Print the value of the base attribute to check if an array owns it's data or not:\n",
        "\n",
        "import numpy as np\n",
        "\n",
        "arr = np.array([1, 2, 3, 4, 5])\n",
        "\n",
        "x = arr.copy()\n",
        "y = arr.view()\n",
        "\n",
        "print(x.base)\n",
        "print(y.base)"
      ],
      "metadata": {
        "colab": {
          "base_uri": "https://localhost:8080/"
        },
        "id": "uLCUpmVVGrU_",
        "outputId": "bc264524-6f3e-4c8f-f0be-001a98fc67f4"
      },
      "execution_count": 4,
      "outputs": [
        {
          "output_type": "stream",
          "name": "stdout",
          "text": [
            "None\n",
            "[1 2 3 4 5]\n"
          ]
        }
      ]
    }
  ]
}