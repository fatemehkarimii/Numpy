{
  "nbformat": 4,
  "nbformat_minor": 0,
  "metadata": {
    "colab": {
      "name": "2_indexing.ipynb",
      "provenance": [],
      "authorship_tag": "ABX9TyNK19OFdG7/5V7HRE98UWKn",
      "include_colab_link": true
    },
    "kernelspec": {
      "name": "python3",
      "display_name": "Python 3"
    },
    "language_info": {
      "name": "python"
    }
  },
  "cells": [
    {
      "cell_type": "markdown",
      "metadata": {
        "id": "view-in-github",
        "colab_type": "text"
      },
      "source": [
        "<a href=\"https://colab.research.google.com/github/fatemehkarimii/Numpy-Tutorial/blob/main/2_indexing.ipynb\" target=\"_parent\"><img src=\"https://colab.research.google.com/assets/colab-badge.svg\" alt=\"Open In Colab\"/></a>"
      ]
    },
    {
      "cell_type": "markdown",
      "source": [
        "#Access Array Elements\n",
        "Array indexing is the same as accessing an array element.\n",
        "\n",
        "You can access an array element by referring to its index number.\n",
        "\n",
        "The indexes in NumPy arrays start with 0, meaning that the first element has index 0, and the second has index 1 etc.\n"
      ],
      "metadata": {
        "id": "QS5cNIx793kI"
      }
    },
    {
      "cell_type": "code",
      "execution_count": 2,
      "metadata": {
        "colab": {
          "base_uri": "https://localhost:8080/"
        },
        "id": "b8IEoTpr9msx",
        "outputId": "5c1dc958-9968-483d-ec39-6806d86b4c1d"
      },
      "outputs": [
        {
          "output_type": "stream",
          "name": "stdout",
          "text": [
            "1\n",
            "7\n"
          ]
        }
      ],
      "source": [
        "#Get the first element from the following array:\n",
        "import numpy as np\n",
        "\n",
        "arr = np.array([1, 2, 3, 4])\n",
        "print(arr[0])\n",
        "print(arr[2] + arr[3])"
      ]
    },
    {
      "cell_type": "markdown",
      "source": [
        "#Access 2-D Arrays\n",
        "To access elements from 2-D arrays we can use comma separated integers representing the dimension and the index of the element.\n",
        "\n",
        "Think of 2-D arrays like a table with rows and columns, where the row represents the dimension and the index represents the column."
      ],
      "metadata": {
        "id": "5KCj1jhm-Dm8"
      }
    },
    {
      "cell_type": "code",
      "source": [
        "import numpy as np\n",
        "\n",
        "arr = np.array([[1,2,3,4,5], [6,7,8,9,10]])\n",
        "\n",
        "print('2nd element on 1st row: ', arr[0, 1])"
      ],
      "metadata": {
        "colab": {
          "base_uri": "https://localhost:8080/"
        },
        "id": "zY-9dwoE97Nv",
        "outputId": "8d4e9a4b-8684-47e4-db88-31d7a424ffee"
      },
      "execution_count": 3,
      "outputs": [
        {
          "output_type": "stream",
          "name": "stdout",
          "text": [
            "2nd element on 1st row:  2\n"
          ]
        }
      ]
    },
    {
      "cell_type": "markdown",
      "source": [
        "#Access 3-D Arrays\n",
        "To access elements from 3-D arrays we can use comma separated integers representing the dimensions and the index of the element."
      ],
      "metadata": {
        "id": "a0c02x59-K3J"
      }
    },
    {
      "cell_type": "code",
      "source": [
        "import numpy as np\n",
        "\n",
        "arr = np.array([[[1, 2, 3], [4, 5, 6]], [[7, 8, 9], [10, 11, 12]]])\n",
        "print(arr[0, 1, 2])"
      ],
      "metadata": {
        "colab": {
          "base_uri": "https://localhost:8080/"
        },
        "id": "3nUMuUHC-QXQ",
        "outputId": "a3d98c19-cea7-4b2c-8c27-befe871decc2"
      },
      "execution_count": 4,
      "outputs": [
        {
          "output_type": "stream",
          "name": "stdout",
          "text": [
            "6\n"
          ]
        }
      ]
    },
    {
      "cell_type": "markdown",
      "source": [
        "#Negative Indexing\n",
        "Use negative indexing to access an array from the end."
      ],
      "metadata": {
        "id": "K4zc4K6K-Yiu"
      }
    },
    {
      "cell_type": "code",
      "source": [
        "import numpy as np\n",
        "\n",
        "arr = np.array([[1,2,3,4,5], [6,7,8,9,10]])\n",
        "print('Last element from 2nd dim: ', arr[1, -1])"
      ],
      "metadata": {
        "colab": {
          "base_uri": "https://localhost:8080/"
        },
        "id": "AtFKC-Gp-hap",
        "outputId": "905668d6-83be-4900-8baa-7837fd14986a"
      },
      "execution_count": 5,
      "outputs": [
        {
          "output_type": "stream",
          "name": "stdout",
          "text": [
            "Last element from 2nd dim:  10\n"
          ]
        }
      ]
    }
  ]
}