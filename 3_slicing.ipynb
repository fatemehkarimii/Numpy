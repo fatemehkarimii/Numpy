{
  "nbformat": 4,
  "nbformat_minor": 0,
  "metadata": {
    "colab": {
      "name": "3_slicing.ipynb",
      "provenance": [],
      "authorship_tag": "ABX9TyO+KOph40+UcZ9UhpLJmv5Y",
      "include_colab_link": true
    },
    "kernelspec": {
      "name": "python3",
      "display_name": "Python 3"
    },
    "language_info": {
      "name": "python"
    }
  },
  "cells": [
    {
      "cell_type": "markdown",
      "metadata": {
        "id": "view-in-github",
        "colab_type": "text"
      },
      "source": [
        "<a href=\"https://colab.research.google.com/github/fatemehkarimii/Numpy-Tutorial/blob/main/3_slicing.ipynb\" target=\"_parent\"><img src=\"https://colab.research.google.com/assets/colab-badge.svg\" alt=\"Open In Colab\"/></a>"
      ]
    },
    {
      "cell_type": "markdown",
      "source": [
        "#Slicing arrays\n",
        "Slicing in python means taking elements from one given index to another given index.\n",
        "\n",
        "We pass slice instead of index like this: [start:end].\n",
        "\n",
        "We can also define the step, like this: [start:end:step].\n",
        "\n",
        "If we don't pass start its considered 0\n",
        "\n",
        "If we don't pass end its considered length of array in that dimension\n",
        "\n",
        "If we don't pass step its considered 1"
      ],
      "metadata": {
        "id": "h0Zce2aX_CIr"
      }
    },
    {
      "cell_type": "code",
      "execution_count": 2,
      "metadata": {
        "colab": {
          "base_uri": "https://localhost:8080/"
        },
        "id": "4_ilFk_t-4Xv",
        "outputId": "169114d6-33fc-4ab9-85c7-1c96ec589275"
      },
      "outputs": [
        {
          "output_type": "stream",
          "name": "stdout",
          "text": [
            "[2 3 4 5]\n",
            "[1 2 3 4]\n",
            "[5 6 7]\n"
          ]
        }
      ],
      "source": [
        "#Slice elements from index 1 to index 5 from the following array:\n",
        "\n",
        "import numpy as np\n",
        "arr = np.array([1, 2, 3, 4, 5, 6, 7])\n",
        "print(arr[1:5])\n",
        "print(arr[:4])\n",
        "print(arr[4:])"
      ]
    },
    {
      "cell_type": "markdown",
      "source": [
        "#Negative Slicing\n",
        "Use the minus operator to refer to an index from the end:\n"
      ],
      "metadata": {
        "id": "MX4Rt0Vy_Z9Q"
      }
    },
    {
      "cell_type": "code",
      "source": [
        "#Slice from the index 3 from the end to index 1 from the end:\n",
        "\n",
        "import numpy as np\n",
        "\n",
        "arr = np.array([1, 2, 3, 4, 5, 6, 7])\n",
        "\n",
        "print(arr[-3:-1])"
      ],
      "metadata": {
        "colab": {
          "base_uri": "https://localhost:8080/"
        },
        "id": "nFQnZ30a_P3j",
        "outputId": "179a58e4-244c-4ad6-82b5-a68754059f31"
      },
      "execution_count": 3,
      "outputs": [
        {
          "output_type": "stream",
          "name": "stdout",
          "text": [
            "[5 6]\n"
          ]
        }
      ]
    },
    {
      "cell_type": "markdown",
      "source": [
        "#STEP\n",
        "Use the step value to determine the step of the slicing:"
      ],
      "metadata": {
        "id": "1norwQpf_ktQ"
      }
    },
    {
      "cell_type": "code",
      "source": [
        "#Return every other element from index 1 to index 5:\n",
        "\n",
        "import numpy as np\n",
        "\n",
        "arr = np.array([1, 2, 3, 4, 5, 6, 7])\n",
        "\n",
        "print(arr[1:5:2])\n",
        "print(arr[::2])"
      ],
      "metadata": {
        "colab": {
          "base_uri": "https://localhost:8080/"
        },
        "id": "8oYjo--n_g2c",
        "outputId": "e55b54a1-be63-47cb-9b08-d70be6c26288"
      },
      "execution_count": 5,
      "outputs": [
        {
          "output_type": "stream",
          "name": "stdout",
          "text": [
            "[2 4]\n",
            "[1 3 5 7]\n"
          ]
        }
      ]
    },
    {
      "cell_type": "markdown",
      "source": [
        "#Slicing 2-D Arrays\n",
        "\n"
      ],
      "metadata": {
        "id": "T1nYC4xYAW3W"
      }
    },
    {
      "cell_type": "code",
      "source": [
        "#From the second element, slice elements from index 1 to index 4 (not included):\n",
        "\n",
        "import numpy as np\n",
        "\n",
        "arr = np.array([[1, 2, 3, 4, 5], [6, 7, 8, 9, 10]])\n",
        "\n",
        "print(arr[1, 1:4])\n",
        "print(arr[0:2, 2])\n",
        "print(arr[0:2, 1:4])"
      ],
      "metadata": {
        "colab": {
          "base_uri": "https://localhost:8080/"
        },
        "id": "I_qBeemVAReX",
        "outputId": "aba5c7de-e2ba-422b-be79-c85a1c78d25e"
      },
      "execution_count": 8,
      "outputs": [
        {
          "output_type": "stream",
          "name": "stdout",
          "text": [
            "[7 8 9]\n",
            "[3 8]\n",
            "[[2 3 4]\n",
            " [7 8 9]]\n"
          ]
        }
      ]
    }
  ]
}